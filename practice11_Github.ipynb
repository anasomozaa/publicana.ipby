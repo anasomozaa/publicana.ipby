{
  "nbformat": 4,
  "nbformat_minor": 0,
  "metadata": {
    "colab": {
      "provenance": [],
      "authorship_tag": "ABX9TyO3p/11qKbG/SbqgsscJ78Z",
      "include_colab_link": true
    },
    "kernelspec": {
      "name": "python3",
      "display_name": "Python 3"
    },
    "language_info": {
      "name": "python"
    }
  },
  "cells": [
    {
      "cell_type": "markdown",
      "metadata": {
        "id": "view-in-github",
        "colab_type": "text"
      },
      "source": [
        "<a href=\"https://colab.research.google.com/github/anasomozaa/publicana.ipby/blob/main/practice11_Github.ipynb\" target=\"_parent\"><img src=\"https://colab.research.google.com/assets/colab-badge.svg\" alt=\"Open In Colab\"/></a>"
      ]
    },
    {
      "cell_type": "code",
      "execution_count": 1,
      "metadata": {
        "colab": {
          "base_uri": "https://localhost:8080/"
        },
        "id": "1GtF_PG8tCx4",
        "outputId": "5a8c247a-e076-4574-a609-525309447ec1"
      },
      "outputs": [
        {
          "output_type": "stream",
          "name": "stdout",
          "text": [
            "hello world\n",
            "What's your name? Ana\n",
            "Hello Ana\n"
          ]
        }
      ],
      "source": [
        "\n",
        "print(\"hello world\")\n",
        "name = str(input(\"What's your name? \"))\n",
        "print(f\"Hello {name}\")"
      ]
    },
    {
      "cell_type": "markdown",
      "source": [],
      "metadata": {
        "id": "rlwqOS9_wJR8"
      }
    }
  ]
}